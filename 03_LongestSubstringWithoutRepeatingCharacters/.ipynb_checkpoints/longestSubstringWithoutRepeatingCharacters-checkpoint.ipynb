{
 "cells": [
  {
   "cell_type": "code",
   "execution_count": 29,
   "metadata": {},
   "outputs": [],
   "source": [
    "class Solution:\n",
    "    def lengthOfLongestSubstring(self, s):\n",
    "        result = []\n",
    "        if s == '':\n",
    "            return 0\n",
    "        for w0 in s:\n",
    "            n = 0\n",
    "            w = s[0]\n",
    "            s = s[1:]\n",
    "            if s == '':\n",
    "                result.append(1)\n",
    "                return sorted(result)[-1]\n",
    "            for w1 in s:\n",
    "                n += 1\n",
    "                l_max = len(set(w + s[:n]))\n",
    "                if l_max == n+1:\n",
    "                    result.append(l_max)\n",
    "                else:\n",
    "                    break\n",
    "            result.append(l_max)"
   ]
  },
  {
   "cell_type": "code",
   "execution_count": null,
   "metadata": {},
   "outputs": [],
   "source": [
    "class Solution:\n",
    "    def lengthOfLongestSubstring(self, s):\n",
    "        l = len(s)\n",
    "        result = {}\n",
    "        w = set()\n",
    "        n = 0\n",
    "        if s == '':\n",
    "            return 0\n",
    "        for i in range(l):\n",
    "#             if l - i <= max(result):\n",
    "#                 break\n",
    "            w.add(s[i])\n",
    "            n += 1\n",
    "            for j in range(i+1, l):\n",
    "                if s[j] in w:\n",
    "                    break\n",
    "                else:\n",
    "                    w.add(s[j])\n",
    "                    n += 1\n",
    "            result.add(n)\n",
    "            w = set()\n",
    "            n = 0\n",
    "        return max(result)"
   ]
  },
  {
   "cell_type": "code",
   "execution_count": 16,
   "metadata": {},
   "outputs": [
    {
     "data": {
      "text/plain": [
       "0"
      ]
     },
     "execution_count": 16,
     "metadata": {},
     "output_type": "execute_result"
    }
   ],
   "source": [
    "class Solution:\n",
    "    def lengthOfLongestSubstring(self, s):\n",
    "        l = len(s)\n",
    "        result = {}\n",
    "        w = set()\n",
    "        if s == '':\n",
    "            return 0\n",
    "        for i in range(l):\n",
    "            w.add(s[i])\n",
    "            for j in range(i+1, l):\n",
    "                if s[j] in w:\n",
    "                    break\n",
    "                else:\n",
    "                    w.add(s[j])\n",
    "            result.add(len(w))\n",
    "            w = set()\n",
    "            n = 0\n",
    "        return max(result)"
   ]
  },
  {
   "cell_type": "code",
   "execution_count": null,
   "metadata": {},
   "outputs": [],
   "source": []
  }
 ],
 "metadata": {
  "kernelspec": {
   "display_name": "Python 3",
   "language": "python",
   "name": "python3"
  },
  "language_info": {
   "codemirror_mode": {
    "name": "ipython",
    "version": 3
   },
   "file_extension": ".py",
   "mimetype": "text/x-python",
   "name": "python",
   "nbconvert_exporter": "python",
   "pygments_lexer": "ipython3",
   "version": "3.7.3"
  }
 },
 "nbformat": 4,
 "nbformat_minor": 2
}
