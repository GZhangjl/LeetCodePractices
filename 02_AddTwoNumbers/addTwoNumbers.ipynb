{
 "cells": [
  {
   "cell_type": "code",
   "execution_count": 1,
   "metadata": {},
   "outputs": [],
   "source": [
    "class ListNode:\n",
    "    def __init__(self, x):\n",
    "        self.val = x\n",
    "        self.next = None"
   ]
  },
  {
   "cell_type": "code",
   "execution_count": 2,
   "metadata": {},
   "outputs": [],
   "source": [
    "num1_linked = ListNode(2)\n",
    "num1_linked.next = ListNode(4)\n",
    "num1_linked.next.next = ListNode(3)"
   ]
  },
  {
   "cell_type": "code",
   "execution_count": 3,
   "metadata": {},
   "outputs": [],
   "source": [
    "num2_linked = ListNode(5)\n",
    "num2_linked.next = ListNode(6)\n",
    "num2_linked.next.next = ListNode(6)"
   ]
  },
  {
   "cell_type": "code",
   "execution_count": null,
   "metadata": {},
   "outputs": [],
   "source": [
    "# 1\n",
    "\n",
    "class Solution:\n",
    "    def addTwoNumbers(self, l1, l2):\n",
    "        dummy_head = l1\n",
    "        s = ''\n",
    "        while (dummy_head != None):\n",
    "            s = str(dummy_head.val) + s\n",
    "            dummy_head = dummy_head.next\n",
    "        num1 = int(s)\n",
    "        dummy_head = l2\n",
    "        s = ''\n",
    "        while (dummy_head != None):\n",
    "            s = str(dummy_head.val) + s\n",
    "            dummy_head = dummy_head.next\n",
    "        num2 = int(s)\n",
    "        num_to_str = str(num1 + num2)[-1::-1]\n",
    "        l_result = ListNode(int(num_to_str[0]))\n",
    "        dummy_head = l_result\n",
    "        for i in num_to_str[1:]:\n",
    "            dummy_head.next = ListNode(int(i))\n",
    "            dummy_head = dummy_head.next\n",
    "        return l_result"
   ]
  },
  {
   "cell_type": "code",
   "execution_count": 7,
   "metadata": {},
   "outputs": [
    {
     "name": "stdout",
     "output_type": "stream",
     "text": [
      "342\n"
     ]
    }
   ],
   "source": [
    "dummy_head = num1_linked\n",
    "s = ''\n",
    "while (dummy_head != None):\n",
    "    s = str(dummy_head.val) + s\n",
    "    dummy_head = dummy_head.next\n",
    "print(int(s))"
   ]
  },
  {
   "cell_type": "code",
   "execution_count": 13,
   "metadata": {},
   "outputs": [
    {
     "data": {
      "text/plain": [
       "'321'"
      ]
     },
     "execution_count": 13,
     "metadata": {},
     "output_type": "execute_result"
    }
   ],
   "source": [
    "'123'[-1::-1]"
   ]
  },
  {
   "cell_type": "code",
   "execution_count": 7,
   "metadata": {},
   "outputs": [],
   "source": [
    "# 2\n",
    "\n",
    "class Solution:\n",
    "    def addTwoNumbers(self, l1, l2):\n",
    "        dummy_head1 = l1\n",
    "        dummy_head2 = l2\n",
    "        l3 = None\n",
    "        carry = 0\n",
    "        while (dummy_head1 != None and dummy_head2 != None):\n",
    "            n = dummy_head1.val + dummy_head2.val + carry\n",
    "            if l3 == None:\n",
    "                if n < 10:\n",
    "                    l3 = ListNode(n)\n",
    "                    carry = 0\n",
    "                else:\n",
    "                    l3 = ListNode(n-10)\n",
    "                    carry = 1\n",
    "                dummy_head3 = l3\n",
    "            else:\n",
    "                if n < 10:\n",
    "                    dummy_head3.next = ListNode(n)\n",
    "                    carry = 0\n",
    "                else:\n",
    "                    dummy_head3.next = ListNode(n-10)\n",
    "                    carry = 1\n",
    "                dummy_head3 = dummy_head3.next\n",
    "            dummy_head1 = dummy_head1.next\n",
    "            dummy_head2 = dummy_head2.next\n",
    "        if dummy_head1 == None and dummy_head2 != None:\n",
    "            n = dummy_head2.val + carry\n",
    "            while n >= 10:\n",
    "                if l3 == None:\n",
    "                    l3 = ListNode(n-10)\n",
    "                    dummy_head3 = l3\n",
    "                else:\n",
    "                    dummy_head3.next = ListNode(n-10)\n",
    "                    dummy_head3 = dummy_head3.next\n",
    "                dummy_head2 = dummy_head2.next\n",
    "                if dummy_head2 == None:\n",
    "                    dummy_head3.next = ListNode(1)\n",
    "                    return l3\n",
    "                else:\n",
    "                    n = dummy_head2.val + 1\n",
    "            if l3 == None:\n",
    "                l3 = ListNode(n)\n",
    "                dummy_head3 = l3\n",
    "            else:\n",
    "                dummy_head3.next = ListNode(n)\n",
    "                dummy_head3 = dummy_head3.next\n",
    "            dummy_head3.next = dummy_head2.next\n",
    "            return l3\n",
    "        if dummy_head2 == None and dummy_head1 != None:\n",
    "            n = dummy_head1.val + carry\n",
    "            while n >= 10:\n",
    "                if l3 == None:\n",
    "                    l3 = ListNode(n-10)\n",
    "                    dummy_head3 = l3\n",
    "                else:\n",
    "                    dummy_head3.next = ListNode(n-10)\n",
    "                    dummy_head3 = dummy_head3.next\n",
    "                dummy_head1 = dummy_head1.next\n",
    "                if dummy_head1 == None:\n",
    "                    dummy_head3.next = ListNode(1)\n",
    "                    return l3\n",
    "                else:\n",
    "                    n = dummy_head1.val + 1\n",
    "            if l3 == None:\n",
    "                l3 = ListNode(n)\n",
    "                dummy_head3 = l3\n",
    "            else:\n",
    "                dummy_head3.next = ListNode(n)\n",
    "                dummy_head3 = dummy_head3.next\n",
    "            dummy_head3.next = dummy_head1.next\n",
    "            return l3\n",
    "        if dummy_head2 == None and dummy_head1 == None:\n",
    "            if carry == 1:\n",
    "                dummy_head3.next = ListNode(1)\n",
    "        return l3"
   ]
  },
  {
   "cell_type": "code",
   "execution_count": null,
   "metadata": {},
   "outputs": [],
   "source": []
  }
 ],
 "metadata": {
  "kernelspec": {
   "display_name": "Python 3",
   "language": "python",
   "name": "python3"
  },
  "language_info": {
   "codemirror_mode": {
    "name": "ipython",
    "version": 3
   },
   "file_extension": ".py",
   "mimetype": "text/x-python",
   "name": "python",
   "nbconvert_exporter": "python",
   "pygments_lexer": "ipython3",
   "version": "3.7.3"
  }
 },
 "nbformat": 4,
 "nbformat_minor": 2
}
