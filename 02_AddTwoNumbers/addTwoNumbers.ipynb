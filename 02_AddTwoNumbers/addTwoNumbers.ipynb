{
 "cells": [
  {
   "cell_type": "code",
   "execution_count": 1,
   "metadata": {},
   "outputs": [],
   "source": [
    "class ListNode:\n",
    "    def __init__(self, x):\n",
    "        self.val = x\n",
    "        self.next = None"
   ]
  },
  {
   "cell_type": "code",
   "execution_count": 2,
   "metadata": {},
   "outputs": [],
   "source": [
    "num1_linked = ListNode(2)\n",
    "num1_linked.next = ListNode(4)\n",
    "num1_linked.next.next = ListNode(3)"
   ]
  },
  {
   "cell_type": "code",
   "execution_count": 3,
   "metadata": {},
   "outputs": [],
   "source": [
    "num2_linked = ListNode(5)\n",
    "num2_linked.next = ListNode(6)\n",
    "num2_linked.next.next = ListNode(4)"
   ]
  },
  {
   "cell_type": "code",
   "execution_count": null,
   "metadata": {},
   "outputs": [],
   "source": [
    "class Solution:\n",
    "    def addTwoNumbers(self, l1, l2):\n",
    "        dummy_head = l1\n",
    "        s = ''\n",
    "        while (dummy_head != None):\n",
    "            s = str(dummy_head.val) + s\n",
    "            dummy_head = dummy_head.next\n",
    "        num1 = int(s)\n",
    "        dummy_head = l2\n",
    "        s = ''\n",
    "        while (dummy_head != None):\n",
    "            s = str(dummy_head.val) + s\n",
    "            dummy_head = dummy_head.next\n",
    "        num2 = int(s)\n",
    "        num_to_str = str(num1 + num2)[-1::-1]\n",
    "        l_result = ListNode(int(num_to_str[0]))\n",
    "        dummy_head = l_result\n",
    "        for i in num_to_str[1:]:\n",
    "            dummy_head.next = ListNode(int(i))\n",
    "            dummy_head = dummy_head.next\n",
    "        return l_result"
   ]
  },
  {
   "cell_type": "code",
   "execution_count": 7,
   "metadata": {},
   "outputs": [
    {
     "name": "stdout",
     "output_type": "stream",
     "text": [
      "342\n"
     ]
    }
   ],
   "source": [
    "dummy_head = num1_linked\n",
    "s = ''\n",
    "while (dummy_head != None):\n",
    "    s = str(dummy_head.val) + s\n",
    "    dummy_head = dummy_head.next\n",
    "print(int(s))"
   ]
  },
  {
   "cell_type": "code",
   "execution_count": 13,
   "metadata": {},
   "outputs": [
    {
     "data": {
      "text/plain": [
       "'321'"
      ]
     },
     "execution_count": 13,
     "metadata": {},
     "output_type": "execute_result"
    }
   ],
   "source": [
    "'123'[-1::-1]"
   ]
  },
  {
   "cell_type": "code",
   "execution_count": null,
   "metadata": {},
   "outputs": [],
   "source": []
  }
 ],
 "metadata": {
  "kernelspec": {
   "display_name": "Python 3",
   "language": "python",
   "name": "python3"
  },
  "language_info": {
   "codemirror_mode": {
    "name": "ipython",
    "version": 3
   },
   "file_extension": ".py",
   "mimetype": "text/x-python",
   "name": "python",
   "nbconvert_exporter": "python",
   "pygments_lexer": "ipython3",
   "version": "3.7.3"
  }
 },
 "nbformat": 4,
 "nbformat_minor": 2
}
